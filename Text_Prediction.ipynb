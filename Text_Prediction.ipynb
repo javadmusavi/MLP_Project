{
  "cells": [
    {
      "cell_type": "markdown",
      "metadata": {
        "id": "view-in-github",
        "colab_type": "text"
      },
      "source": [
        "<a href=\"https://colab.research.google.com/github/javadmusavi/MLP_Project/blob/master/Text_Prediction.ipynb\" target=\"_parent\"><img src=\"https://colab.research.google.com/assets/colab-badge.svg\" alt=\"Open In Colab\"/></a>"
      ]
    },
    {
      "cell_type": "code",
      "execution_count": null,
      "metadata": {
        "id": "8U83G7eTkSF0"
      },
      "outputs": [],
      "source": [
        "import pandas as pd\n",
        "import numpy as np\n",
        "from tensorflow.keras.preprocessing.text import Tokenizer\n",
        "from tensorflow.keras.preprocessing.sequence import pad_sequences\n",
        "from tensorflow.keras.utils import to_categorical\n",
        "from tensorflow.keras.models import Sequential\n",
        "from tensorflow.keras.layers import Dense, LSTM, Embedding, SimpleRNN, GRU\n",
        "from tensorflow.keras.callbacks import EarlyStopping\n",
        "# !pip install hazm\n",
        "from hazm import *\n",
        "import re\n",
        "from google.colab import drive\n",
        "\n",
        "# Constants\n",
        "TEXT_CLEANING_RE = r\"[^آ-ی]\"\n",
        "DATASET_ENCODING = \"utf-8\""
      ]
    },
    {
      "cell_type": "code",
      "execution_count": null,
      "metadata": {
        "id": "uK6PJnJbkUow"
      },
      "outputs": [],
      "source": [
        "# Load and preprocess the dataset\n",
        "def load_dataset(file_path):\n",
        "    # Load dataset\n",
        "    drive.mount('/content/drive')\n",
        "    df = pd.read_csv(file_path,encoding =DATASET_ENCODING)\n",
        "    df['text'].apply(preprocess_text)\n",
        "    return df"
      ]
    },
    {
      "cell_type": "code",
      "execution_count": null,
      "metadata": {
        "id": "LgZhjlT9kXsH"
      },
      "outputs": [],
      "source": [
        "# Preprocess text\n",
        "def preprocess_text(text):\n",
        "    text = text.replace('.', ' ')\n",
        "    text = text.replace('ي', 'ی').replace('ك', 'ک')\n",
        "    text = text.replace(\"-\",\"\")\n",
        "    text = text.replace('(', ' ')\n",
        "    text = text.replace(')', ' ')\n",
        "    text = text.replace(\"«\",\" \")\n",
        "    text = text.replace(\"»\",\" \")\n",
        "\n",
        "    cleaned_text = re.sub(TEXT_CLEANING_RE, \" \", text)\n",
        "    return cleaned_text"
      ]
    },
    {
      "cell_type": "code",
      "source": [
        "def get_sequence_of_tokens(tokens):\n",
        "  input_sequences = []\n",
        "  output_sequences = []\n",
        "\n",
        "  for seq in tokens:\n",
        "    for i in range(1, len(seq)):\n",
        "        input_sequences.append(seq[:i])\n",
        "        output_sequences.append(seq[i])\n",
        "  return input_sequences, output_sequences"
      ],
      "metadata": {
        "id": "Iji8WP4lzoqo"
      },
      "execution_count": null,
      "outputs": []
    },
    {
      "cell_type": "code",
      "execution_count": null,
      "metadata": {
        "colab": {
          "base_uri": "https://localhost:8080/"
        },
        "id": "38AxWYb9kgRO",
        "outputId": "de447262-478a-494f-aacb-2b7bdafe2fd3"
      },
      "outputs": [
        {
          "output_type": "stream",
          "name": "stdout",
          "text": [
            "Mounted at /content/drive\n"
          ]
        }
      ],
      "source": [
        "# Load the dataset\n",
        "df = load_dataset('/content/drive/My Drive/RNN Project/part_1.csv')"
      ]
    },
    {
      "cell_type": "code",
      "execution_count": null,
      "metadata": {
        "id": "YH-uRJe9kh2Q"
      },
      "outputs": [],
      "source": [
        "# Create a tokenizer\n",
        "tokenizer = Tokenizer()\n",
        "tokenizer.fit_on_texts(df['text'])\n",
        "word_index = tokenizer.word_index\n",
        "total_words = len(word_index) + 1\n"
      ]
    },
    {
      "cell_type": "code",
      "execution_count": null,
      "metadata": {
        "id": "GhwMYM3wklbr"
      },
      "outputs": [],
      "source": [
        "# Maximum sequence length\n",
        "max_sequence_length = max([len(x.split()) for x in df['text']])\n",
        "\n",
        "# Tokenize and pad the text sequences\n",
        "sequences = tokenizer.texts_to_sequences(df['text'])\n",
        "padded_sequences = pad_sequences(sequences, maxlen=max_sequence_length, padding='post')"
      ]
    },
    {
      "cell_type": "code",
      "source": [
        "# Create training data\n",
        "input_sequences, output_sequences = get_sequence_of_tokens(sequences)\n",
        "\n",
        "x_train = pad_sequences(input_sequences, maxlen=max_sequence_length-1)\n",
        "y_train = to_categorical(output_sequences, num_classes=total_words)"
      ],
      "metadata": {
        "id": "imRqTB5MM-3B"
      },
      "execution_count": null,
      "outputs": []
    },
    {
      "cell_type": "code",
      "execution_count": null,
      "metadata": {
        "id": "CiaiL8BqknQH"
      },
      "outputs": [],
      "source": [
        "# Create the model\n",
        "model = Sequential()\n",
        "model.add(Embedding(total_words, 64, input_length=max_sequence_length - 1))\n",
        "model.add(LSTM(128, return_sequences=True))\n",
        "model.add(GRU(64, activation=\"tanh\"))\n",
        "model.add(Dense(total_words, activation='softmax'))"
      ]
    },
    {
      "cell_type": "code",
      "source": [
        "# Compile the model\n",
        "model.compile(loss='categorical_crossentropy', optimizer='adam', metrics=['accuracy'])\n"
      ],
      "metadata": {
        "id": "eYDGsmstPEUk"
      },
      "execution_count": null,
      "outputs": []
    },
    {
      "cell_type": "code",
      "source": [
        "# Define early stopping\n",
        "early_stop = EarlyStopping(monitor='val_loss', patience=3, restore_best_weights=True)\n"
      ],
      "metadata": {
        "id": "2yY6xDy4PF58"
      },
      "execution_count": null,
      "outputs": []
    },
    {
      "cell_type": "code",
      "execution_count": null,
      "metadata": {
        "id": "vOOC9kkykpld",
        "colab": {
          "base_uri": "https://localhost:8080/"
        },
        "outputId": "3aed8da2-b056-4628-9e46-d37a92c632f2"
      },
      "outputs": [
        {
          "output_type": "stream",
          "name": "stdout",
          "text": [
            "Epoch 1/20\n",
            "2008/2008 [==============================] - 93s 43ms/step - loss: 8.5667 - accuracy: 0.0298 - val_loss: 8.4819 - val_accuracy: 0.0358\n",
            "Epoch 2/20\n",
            "2008/2008 [==============================] - 33s 16ms/step - loss: 7.9023 - accuracy: 0.0393 - val_loss: 8.4952 - val_accuracy: 0.0451\n",
            "Epoch 3/20\n",
            "2008/2008 [==============================] - 27s 14ms/step - loss: 7.3879 - accuracy: 0.0537 - val_loss: 8.5299 - val_accuracy: 0.0590\n",
            "Epoch 4/20\n",
            "2008/2008 [==============================] - 29s 15ms/step - loss: 6.7673 - accuracy: 0.0760 - val_loss: 8.7284 - val_accuracy: 0.0713\n",
            "Epoch 5/20\n",
            "2008/2008 [==============================] - 28s 14ms/step - loss: 6.1139 - accuracy: 0.1062 - val_loss: 8.9477 - val_accuracy: 0.0771\n",
            "Epoch 6/20\n",
            "2008/2008 [==============================] - 27s 14ms/step - loss: 5.4748 - accuracy: 0.1471 - val_loss: 9.1903 - val_accuracy: 0.0899\n",
            "Epoch 7/20\n",
            "2008/2008 [==============================] - 28s 14ms/step - loss: 4.8733 - accuracy: 0.2044 - val_loss: 9.3728 - val_accuracy: 0.1030\n",
            "Epoch 8/20\n",
            "2008/2008 [==============================] - 26s 13ms/step - loss: 4.3157 - accuracy: 0.2791 - val_loss: 9.5410 - val_accuracy: 0.1095\n",
            "Epoch 9/20\n",
            "2008/2008 [==============================] - 29s 14ms/step - loss: 3.8010 - accuracy: 0.3627 - val_loss: 9.6867 - val_accuracy: 0.1175\n",
            "Epoch 10/20\n",
            "2008/2008 [==============================] - 26s 13ms/step - loss: 3.3435 - accuracy: 0.4333 - val_loss: 9.8459 - val_accuracy: 0.1253\n",
            "Epoch 11/20\n",
            "2008/2008 [==============================] - 27s 13ms/step - loss: 2.9350 - accuracy: 0.4942 - val_loss: 9.9746 - val_accuracy: 0.1303\n",
            "Epoch 12/20\n",
            "2008/2008 [==============================] - 26s 13ms/step - loss: 2.5860 - accuracy: 0.5491 - val_loss: 10.1419 - val_accuracy: 0.1354\n",
            "Epoch 13/20\n",
            "2008/2008 [==============================] - 27s 14ms/step - loss: 2.2848 - accuracy: 0.5976 - val_loss: 10.3010 - val_accuracy: 0.1394\n",
            "Epoch 14/20\n",
            "2008/2008 [==============================] - 28s 14ms/step - loss: 2.0192 - accuracy: 0.6441 - val_loss: 10.4583 - val_accuracy: 0.1440\n",
            "Epoch 15/20\n",
            "2008/2008 [==============================] - 27s 14ms/step - loss: 1.7866 - accuracy: 0.6813 - val_loss: 10.5766 - val_accuracy: 0.1487\n",
            "Epoch 16/20\n",
            "2008/2008 [==============================] - 26s 13ms/step - loss: 1.5848 - accuracy: 0.7184 - val_loss: 10.7298 - val_accuracy: 0.1500\n",
            "Epoch 17/20\n",
            "2008/2008 [==============================] - 28s 14ms/step - loss: 1.4033 - accuracy: 0.7514 - val_loss: 10.8846 - val_accuracy: 0.1521\n",
            "Epoch 18/20\n",
            "2008/2008 [==============================] - 26s 13ms/step - loss: 1.2478 - accuracy: 0.7787 - val_loss: 11.0156 - val_accuracy: 0.1541\n",
            "Epoch 19/20\n",
            "2008/2008 [==============================] - 26s 13ms/step - loss: 1.1083 - accuracy: 0.8042 - val_loss: 11.1659 - val_accuracy: 0.1603\n",
            "Epoch 20/20\n",
            "2008/2008 [==============================] - 28s 14ms/step - loss: 0.9890 - accuracy: 0.8263 - val_loss: 11.3047 - val_accuracy: 0.1597\n"
          ]
        },
        {
          "output_type": "execute_result",
          "data": {
            "text/plain": [
              "<keras.callbacks.History at 0x7fadf00f0850>"
            ]
          },
          "metadata": {},
          "execution_count": 13
        }
      ],
      "source": [
        "# Train the model\n",
        "# model.fit(x_train, y_train, validation_split=0.2, epochs=10, batch_size=32, callbacks=[early_stop])\n",
        "\n",
        "model.fit(x_train, y_train, validation_split=0.2, epochs=20, batch_size=32, verbose=1)"
      ]
    },
    {
      "cell_type": "code",
      "execution_count": null,
      "metadata": {
        "id": "ysN7v-plktxp",
        "colab": {
          "base_uri": "https://localhost:8080/",
          "height": 235
        },
        "outputId": "19b2d4f5-44c2-40af-c561-857c766e7314"
      },
      "outputs": [
        {
          "output_type": "error",
          "ename": "NameError",
          "evalue": "ignored",
          "traceback": [
            "\u001b[0;31m---------------------------------------------------------------------------\u001b[0m",
            "\u001b[0;31mNameError\u001b[0m                                 Traceback (most recent call last)",
            "\u001b[0;32m<ipython-input-1-e546e10d518d>\u001b[0m in \u001b[0;36m<cell line: 34>\u001b[0;34m()\u001b[0m\n\u001b[1;32m     32\u001b[0m \u001b[0;34m\u001b[0m\u001b[0m\n\u001b[1;32m     33\u001b[0m \u001b[0;31m# Start user input loop\u001b[0m\u001b[0;34m\u001b[0m\u001b[0;34m\u001b[0m\u001b[0m\n\u001b[0;32m---> 34\u001b[0;31m \u001b[0muser_input\u001b[0m\u001b[0;34m(\u001b[0m\u001b[0mmodel\u001b[0m\u001b[0;34m,\u001b[0m \u001b[0mtokenizer\u001b[0m\u001b[0;34m,\u001b[0m \u001b[0mmax_sequence_length\u001b[0m\u001b[0;34m)\u001b[0m\u001b[0;34m\u001b[0m\u001b[0;34m\u001b[0m\u001b[0m\n\u001b[0m\u001b[1;32m     35\u001b[0m \u001b[0;34m\u001b[0m\u001b[0m\n\u001b[1;32m     36\u001b[0m \u001b[0;34m\u001b[0m\u001b[0m\n",
            "\u001b[0;31mNameError\u001b[0m: name 'model' is not defined"
          ]
        }
      ],
      "source": [
        "def predict_next_words(model, tokenizer, max_sequence_length, text, num_words=1):\n",
        "    # Preprocess the input text\n",
        "    cleaned_text = preprocess_text(text)\n",
        "\n",
        "    # Tokenize and pad the preprocessed text\n",
        "    text_tokenized = tokenizer.texts_to_sequences([cleaned_text])\n",
        "    text_padded = pad_sequences(text_tokenized, maxlen=max_sequence_length - 1, padding='post')\n",
        "\n",
        "    # Predict the label\n",
        "    prediction = model.predict(text_padded)\n",
        "\n",
        "    # Get the indices of the top predicted words\n",
        "    top_indices = np.argsort(prediction[0])[-num_words:]\n",
        "\n",
        "    # Convert the predicted word indices back to words\n",
        "    predicted_words = [tokenizer.index_word.get(idx, '') for idx in top_indices]\n",
        "\n",
        "    return predicted_words\n",
        "\n",
        "# User input function\n",
        "def user_input(model, tokenizer, max_sequence_length):\n",
        "    while True:\n",
        "        text = input(\"Enter a broken sentence (type 'q' to quit): \")\n",
        "        if text == 'q':\n",
        "            break\n",
        "        num_words = int(input(\"Enter the number of words to predict: \"))\n",
        "        predicted_words = predict_next_words(model, tokenizer, max_sequence_length, text, num_words)\n",
        "\n",
        "        # Combine the input sentence with the predicted words to form a complete sentence\n",
        "        completed_sentence = text + ' ' + ' '.join(predicted_words)\n",
        "        print(\"Completed Sentence:\", completed_sentence)\n",
        "\n",
        "# Start user input loop\n",
        "user_input(model, tokenizer, max_sequence_length)\n",
        "\n",
        "\n",
        "# def generate_sequence(model, tokenizer, max_sequence_length, seed_text, sequence_length):\n",
        "#     # Preprocess the seed text\n",
        "#     cleaned_text = preprocess_text(seed_text)\n",
        "\n",
        "#     # Tokenize and pad the preprocessed text\n",
        "#     seed_tokenized = tokenizer.texts_to_sequences([cleaned_text])\n",
        "#     seed_padded = pad_sequences(seed_tokenized, maxlen=max_sequence_length - 1, padding='post')\n",
        "\n",
        "#     generated_sequence = seed_padded.copy()\n",
        "\n",
        "#     for _ in range(sequence_length):\n",
        "#         # Predict the next word\n",
        "#         prediction = model.predict(seed_padded)\n",
        "#         predicted_word_idx = np.argmax(prediction[0])\n",
        "\n",
        "#         # Append the predicted word index to the generated sequence\n",
        "#         generated_sequence[0][-1] = predicted_word_idx\n",
        "\n",
        "#         # Update the seed for the next iteration\n",
        "#         seed_padded = generated_sequence\n",
        "\n",
        "#     # Convert the generated sequence back to text\n",
        "#     generated_text = ' '.join(tokenizer.index_word.get(idx, '') for idx in generated_sequence[0])\n",
        "#     return generated_text\n",
        "\n",
        "# def user_input(model, tokenizer, max_sequence_length):\n",
        "#     while True:\n",
        "#         text = input(\"Enter a seed text (type 'q' to quit): \")\n",
        "#         if text == 'q':\n",
        "#             break\n",
        "#         sequence_length = int(input(\"Enter the number of sequence length: \"))\n",
        "#         generated_sequence = generate_sequence(model, tokenizer, max_sequence_length, text, sequence_length)\n",
        "#         print(\"Generated Sequence:\", generated_sequence)\n",
        "\n",
        "# # Example usage:\n",
        "# user_input(model, tokenizer, max_sequence_length)\n"
      ]
    }
  ],
  "metadata": {
    "colab": {
      "provenance": [],
      "gpuType": "T4",
      "include_colab_link": true
    },
    "kernelspec": {
      "display_name": "Python 3",
      "name": "python3"
    },
    "language_info": {
      "name": "python"
    },
    "accelerator": "GPU"
  },
  "nbformat": 4,
  "nbformat_minor": 0
}